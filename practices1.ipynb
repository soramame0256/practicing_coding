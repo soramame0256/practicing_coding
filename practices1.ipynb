{
  "nbformat": 4,
  "nbformat_minor": 0,
  "metadata": {
    "colab": {
      "name": "Untitled0.ipynb",
      "provenance": [],
      "authorship_tag": "ABX9TyPuUb273CTaQ5IDYLB+Yxyo",
      "include_colab_link": true
    },
    "kernelspec": {
      "name": "python3",
      "display_name": "Python 3"
    },
    "language_info": {
      "name": "python"
    }
  },
  "cells": [
    {
      "cell_type": "markdown",
      "metadata": {
        "id": "view-in-github",
        "colab_type": "text"
      },
      "source": [
        "<a href=\"https://colab.research.google.com/github/soramame0256/practicing_coding/blob/main/practices1.ipynb\" target=\"_parent\"><img src=\"https://colab.research.google.com/assets/colab-badge.svg\" alt=\"Open In Colab\"/></a>"
      ]
    },
    {
      "cell_type": "markdown",
      "metadata": {
        "id": "rhOzlM4tvyDY"
      },
      "source": [
        "99 bottles of beer"
      ]
    },
    {
      "cell_type": "code",
      "metadata": {
        "id": "oLWzsL6MYOYl"
      },
      "source": [
        "for beer in range(99,0,-1):\n",
        "  if beer == 2:\n",
        "      print(str(beer)+\" bottles of beer\")\n",
        "      print(\"you take one down, pass it around,\")\n",
        "      print(\"1 bottle of beer on the wall.\")\n",
        "  elif beer == 1:\n",
        "      print(str(beer)+\" bottle of beer\")\n",
        "      print(\"you take one down, pass it around,\")\n",
        "      print(\"no more bottles of beer on the wall.\")\n",
        "  else:\n",
        "      print(str(beer)+\" bottles of beer\")\n",
        "      print(\"you take one down, pass it around,\")\n",
        "      print(str(beer-1)+\" bottles of beer on the wall\")\n",
        "  print(\"\\n\")"
      ],
      "execution_count": null,
      "outputs": []
    },
    {
      "cell_type": "markdown",
      "metadata": {
        "id": "jqsXRhmAqKO6"
      },
      "source": [
        "数値当てゲーム"
      ]
    },
    {
      "cell_type": "code",
      "metadata": {
        "id": "weo_0wjxaVg2"
      },
      "source": [
        "import random #randomモジュールをインポートする\n",
        "import sys #sysモジュールをインポートする\n",
        "cleared = False #クリア確認用変数を初期化\n",
        "while True: #条件式がTrueである間ループ。今回は条件式がTrueであるため無限にループする。後に記述されているコンテニュー管理のためゲームロジックをすべてループする \n",
        "  ans = str(int(random.random()*100)) #0~100のランダムな整数を生成し、文字列に変換\n",
        "  for a in range(5): #1~5までの整数をaに代入していく。\n",
        "    while True: #条件式がTrueである間ループ。今回は条件式がTrueであるため無限にループする。\n",
        "      inpt = input(\"なんでしょう!w:\") #inptにユーザーの入力文字列を代入する\n",
        "      isNumber = True #入力値が数値型のみであることを確認するための変数を初期化\n",
        "      for inpt2 in list(inpt): #入力文字列をすべて文字ごとに区切る      \n",
        "        if not inpt2 in [\"1\",\"2\",\"3\",\"4\",\"5\",\"6\",\"7\",\"8\",\"9\",\"0\",\"-\"]: #数値以外ならば\n",
        "          print(\"入力値は数値ではない文字が入っています!\") #エラー\n",
        "          isNumber = False #上記変数にFalseを代入\n",
        "          break #forを抜ける\n",
        "      if True == isNumber == (int(inpt)<0): #isNumberがTrueかつ入力値が0未満である場合\n",
        "        print(\"入力値は0未満である値です!\") #上記状態であった時のエラーメッセージ\n",
        "      elif True == isNumber != (int(inpt)<0): #isNumberがTrueかつ入力値が0未満でない場合\n",
        "        break #whileを抜ける\n",
        "    if inpt == ans: #入力値が当たっていたならば\n",
        "      if a == 1: #入力回数が1回ならば\n",
        "        print(\"大当たり! 1回でヒットしました!\") #特殊メッセージ表示\n",
        "      else: #入力回数が1以外ならば\n",
        "        print(\"当たり!\" + str(a) + \"回でヒットしました!\") #通常メッセージを表示\n",
        "      cleared = True #クリア確認用変数にTrueを代入\n",
        "      break #forを抜ける\n",
        "    elif int(inpt) < int(ans):#入力値が答えより小さいならば\n",
        "        print(\"入力値は答えより小さいです!\") #小さいと表示\n",
        "    else: #それ以外ならば\n",
        "        print(\"入力値は答えより大きいです!\") #大きいと表示\n",
        "  if not cleared: #クリア確認用変数がFalseならば\n",
        "    print(\"5回以内に当てることができませんでした...\") #失敗メッセージを表示\n",
        "  cleared = False #クリア確認用変数を初期化 -> コンテニュー時対策\n",
        "  contque = input(\"コンテニューしますか?(True/False それ以外の場合すべてFalseになります):\") == \"True\" #コンテニューするか確認する\n",
        "  if not contque: #コンテニューするかを代入した変数contqueがFalseであるなら\n",
        "    sys.exit() #例外System Exitをスローしプログラムを終了する。"
      ],
      "execution_count": null,
      "outputs": []
    }
  ]
}